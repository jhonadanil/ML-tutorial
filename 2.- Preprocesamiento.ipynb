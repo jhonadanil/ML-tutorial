{
 "cells": [
  {
   "cell_type": "markdown",
   "id": "e7e1391b",
   "metadata": {
    "papermill": {
     "duration": 0.020688,
     "end_time": "2024-10-23T19:19:08.793729",
     "exception": false,
     "start_time": "2024-10-23T19:19:08.773041",
     "status": "completed"
    },
    "tags": []
   },
   "source": [
    "# *Tutorial de Preprocesamiento de Datos con Scikit-learn*"
   ]
  },
  {
   "cell_type": "markdown",
   "id": "5b7c3849",
   "metadata": {
    "papermill": {
     "duration": 0.019613,
     "end_time": "2024-10-23T19:19:08.833829",
     "exception": false,
     "start_time": "2024-10-23T19:19:08.814216",
     "status": "completed"
    },
    "tags": []
   },
   "source": [
    "En este notebook realizaremos un preprocesamiento de datos utilizando el famoso dataset del Titanic. Este conjunto de datos contiene información sobre los pasajeros del Titanic, incluyendo detalles sobre su supervivencia, características personales, y otros factores relevantes. El objetivo de este preprocesamiento es preparar los datos para un análisis posterior o para alimentar un modelo predictivo.\n",
    "\n",
    "#### El dataset incluye las siguientes columnas:\n",
    "\n",
    "- **Pclass:** Clase del pasajero, representando su nivel socioeconómico (1ª clase, 2ª clase, 3ª clase).\n",
    "\n",
    "- **Survived:** Indica si el pasajero sobrevivió al desastre (1: sobrevivió, 0: no sobrevivió).\n",
    "\n",
    "- **Name:** Nombre completo del pasajero, incluyendo el título (por ejemplo, \"Mr.\", \"Mrs.\").\n",
    "\n",
    "- **Sex:** Género del pasajero (male: hombre, female: mujer).\n",
    "\n",
    "- **Age:** Edad del pasajero en años.\n",
    "\n",
    "- **Sibsp:** Número de hermanos y/o esposos a bordo del Titanic.\n",
    "\n",
    "- **Parch:** Número de padres y/o hijos a bordo del Titanic.\n",
    "\n",
    "- **Ticket:** Número del billete del pasajero.\n",
    "\n",
    "- **Fare:** Tarifa que pagó el pasajero por su billete.\n",
    "\n",
    "- **Cabin:** Número de la cabina asignada al pasajero (si está disponible).\n",
    "\n",
    "- **Embarked:** Puerto donde el pasajero abordó el Titanic (C: Cherburgo, Q: Queenstown, S: Southampton).\n",
    "\n",
    "- **Boat:** Número del bote salvavidas en el que fue rescatado el pasajero (si aplica).\n",
    "\n",
    "- **Body:** Número de identificación del cuerpo recuperado (si aplica).\n",
    "\n",
    "- **Home.dest:** Residencia o destino final del pasajero."
   ]
  },
  {
   "cell_type": "markdown",
   "id": "e5138a5f",
   "metadata": {
    "papermill": {
     "duration": 0.020737,
     "end_time": "2024-10-23T19:19:08.874504",
     "exception": false,
     "start_time": "2024-10-23T19:19:08.853767",
     "status": "completed"
    },
    "tags": []
   },
   "source": [
    "### Los pasos que usaremos son los siguientes:"
   ]
  },
  {
   "cell_type": "markdown",
   "id": "05e71eea",
   "metadata": {
    "papermill": {
     "duration": 0.019813,
     "end_time": "2024-10-23T19:19:08.915552",
     "exception": false,
     "start_time": "2024-10-23T19:19:08.895739",
     "status": "completed"
    },
    "tags": []
   },
   "source": [
    "### 1.- Limpieza de datos.\n",
    "\n",
    "- Eliminación de columnas y filas.\n",
    "\n",
    "- Corrección de errores.\n",
    "\n",
    "- Eliminación de valores atipicos.\n",
    "\n",
    "### 2.- Division de datos.\n",
    "\n",
    "- Cross validatión (Validación cruzada).\n",
    "\n",
    "- División en  entrenamiento, validación y prueba.\n",
    "\n",
    "### 3.- Transformación de datos.\n",
    "\n",
    "- Imputación.\n",
    "\n",
    "- Codificación.\n",
    "\n",
    "- Escalado.\n",
    "\n",
    "### 4.- Selección o extracción de caracteristicas.\n",
    "\n",
    "- Selección de caracteristicas.\n",
    "\n",
    "- Extracción de caracteristicas."
   ]
  },
  {
   "cell_type": "code",
   "execution_count": 1,
   "id": "f66a1369",
   "metadata": {
    "_kg_hide-input": true,
    "execution": {
     "iopub.execute_input": "2024-10-23T19:19:08.958749Z",
     "iopub.status.busy": "2024-10-23T19:19:08.958264Z",
     "iopub.status.idle": "2024-10-23T19:19:11.614212Z",
     "shell.execute_reply": "2024-10-23T19:19:11.613007Z"
    },
    "papermill": {
     "duration": 2.682233,
     "end_time": "2024-10-23T19:19:11.618100",
     "exception": false,
     "start_time": "2024-10-23T19:19:08.935867",
     "status": "completed"
    },
    "tags": []
   },
   "outputs": [],
   "source": [
    "import pandas as pd\n",
    "import numpy as np\n",
    "import matplotlib.pyplot as plt\n",
    "import seaborn as sns"
   ]
  },
  {
   "cell_type": "markdown",
   "id": "bf58ae96",
   "metadata": {
    "papermill": {
     "duration": 0.025937,
     "end_time": "2024-10-23T19:19:11.666446",
     "exception": false,
     "start_time": "2024-10-23T19:19:11.640509",
     "status": "completed"
    },
    "tags": []
   },
   "source": [
    "## 1.- Limpieza de datos."
   ]
  },
  {
   "cell_type": "code",
   "execution_count": 2,
   "id": "bd34bea0",
   "metadata": {
    "_kg_hide-input": false,
    "execution": {
     "iopub.execute_input": "2024-10-23T19:19:11.715448Z",
     "iopub.status.busy": "2024-10-23T19:19:11.714846Z",
     "iopub.status.idle": "2024-10-23T19:19:11.754376Z",
     "shell.execute_reply": "2024-10-23T19:19:11.753152Z"
    },
    "papermill": {
     "duration": 0.064229,
     "end_time": "2024-10-23T19:19:11.757134",
     "exception": false,
     "start_time": "2024-10-23T19:19:11.692905",
     "status": "completed"
    },
    "tags": []
   },
   "outputs": [],
   "source": [
    "# Empezamos leyendo los datos.\n",
    "df = pd.read_csv('/kaggle/input/titanik-csv/titanic.csv')"
   ]
  },
  {
   "cell_type": "code",
   "execution_count": 3,
   "id": "18f5557f",
   "metadata": {
    "execution": {
     "iopub.execute_input": "2024-10-23T19:19:11.799858Z",
     "iopub.status.busy": "2024-10-23T19:19:11.799428Z",
     "iopub.status.idle": "2024-10-23T19:19:11.835358Z",
     "shell.execute_reply": "2024-10-23T19:19:11.834130Z"
    },
    "papermill": {
     "duration": 0.060518,
     "end_time": "2024-10-23T19:19:11.838260",
     "exception": false,
     "start_time": "2024-10-23T19:19:11.777742",
     "status": "completed"
    },
    "tags": []
   },
   "outputs": [
    {
     "data": {
      "text/html": [
       "<div>\n",
       "<style scoped>\n",
       "    .dataframe tbody tr th:only-of-type {\n",
       "        vertical-align: middle;\n",
       "    }\n",
       "\n",
       "    .dataframe tbody tr th {\n",
       "        vertical-align: top;\n",
       "    }\n",
       "\n",
       "    .dataframe thead th {\n",
       "        text-align: right;\n",
       "    }\n",
       "</style>\n",
       "<table border=\"1\" class=\"dataframe\">\n",
       "  <thead>\n",
       "    <tr style=\"text-align: right;\">\n",
       "      <th></th>\n",
       "      <th>pclass</th>\n",
       "      <th>survived</th>\n",
       "      <th>name</th>\n",
       "      <th>sex</th>\n",
       "      <th>age</th>\n",
       "      <th>sibsp</th>\n",
       "      <th>parch</th>\n",
       "      <th>ticket</th>\n",
       "      <th>fare</th>\n",
       "      <th>cabin</th>\n",
       "      <th>embarked</th>\n",
       "      <th>boat</th>\n",
       "      <th>body</th>\n",
       "      <th>home.dest</th>\n",
       "    </tr>\n",
       "  </thead>\n",
       "  <tbody>\n",
       "    <tr>\n",
       "      <th>0</th>\n",
       "      <td>1.0</td>\n",
       "      <td>1.0</td>\n",
       "      <td>Allen, Miss. Elisabeth Walton</td>\n",
       "      <td>female</td>\n",
       "      <td>29.0000</td>\n",
       "      <td>0.0</td>\n",
       "      <td>0.0</td>\n",
       "      <td>24160</td>\n",
       "      <td>211.3375</td>\n",
       "      <td>B5</td>\n",
       "      <td>S</td>\n",
       "      <td>2</td>\n",
       "      <td>NaN</td>\n",
       "      <td>St Louis, MO</td>\n",
       "    </tr>\n",
       "    <tr>\n",
       "      <th>1</th>\n",
       "      <td>1.0</td>\n",
       "      <td>1.0</td>\n",
       "      <td>Allison, Master. Hudson Trevor</td>\n",
       "      <td>male</td>\n",
       "      <td>0.9167</td>\n",
       "      <td>1.0</td>\n",
       "      <td>2.0</td>\n",
       "      <td>113781</td>\n",
       "      <td>151.5500</td>\n",
       "      <td>C22 C26</td>\n",
       "      <td>S</td>\n",
       "      <td>11</td>\n",
       "      <td>NaN</td>\n",
       "      <td>Montreal, PQ / Chesterville, ON</td>\n",
       "    </tr>\n",
       "    <tr>\n",
       "      <th>2</th>\n",
       "      <td>1.0</td>\n",
       "      <td>0.0</td>\n",
       "      <td>Allison, Miss. Helen Loraine</td>\n",
       "      <td>female</td>\n",
       "      <td>2.0000</td>\n",
       "      <td>1.0</td>\n",
       "      <td>2.0</td>\n",
       "      <td>113781</td>\n",
       "      <td>151.5500</td>\n",
       "      <td>C22 C26</td>\n",
       "      <td>S</td>\n",
       "      <td>NaN</td>\n",
       "      <td>NaN</td>\n",
       "      <td>Montreal, PQ / Chesterville, ON</td>\n",
       "    </tr>\n",
       "  </tbody>\n",
       "</table>\n",
       "</div>"
      ],
      "text/plain": [
       "   pclass  survived                            name     sex      age  sibsp  \\\n",
       "0     1.0       1.0   Allen, Miss. Elisabeth Walton  female  29.0000    0.0   \n",
       "1     1.0       1.0  Allison, Master. Hudson Trevor    male   0.9167    1.0   \n",
       "2     1.0       0.0    Allison, Miss. Helen Loraine  female   2.0000    1.0   \n",
       "\n",
       "   parch  ticket      fare    cabin embarked boat  body  \\\n",
       "0    0.0   24160  211.3375       B5        S    2   NaN   \n",
       "1    2.0  113781  151.5500  C22 C26        S   11   NaN   \n",
       "2    2.0  113781  151.5500  C22 C26        S  NaN   NaN   \n",
       "\n",
       "                         home.dest  \n",
       "0                     St Louis, MO  \n",
       "1  Montreal, PQ / Chesterville, ON  \n",
       "2  Montreal, PQ / Chesterville, ON  "
      ]
     },
     "execution_count": 3,
     "metadata": {},
     "output_type": "execute_result"
    }
   ],
   "source": [
    "df.head(3)"
   ]
  },
  {
   "cell_type": "markdown",
   "id": "d4e0442f",
   "metadata": {
    "papermill": {
     "duration": 0.030661,
     "end_time": "2024-10-23T19:19:11.894077",
     "exception": false,
     "start_time": "2024-10-23T19:19:11.863416",
     "status": "completed"
    },
    "tags": []
   },
   "source": [
    "### A.- Eliminación de columnas y filas."
   ]
  },
  {
   "cell_type": "markdown",
   "id": "742fc233",
   "metadata": {
    "papermill": {
     "duration": 0.023163,
     "end_time": "2024-10-23T19:19:11.940204",
     "exception": false,
     "start_time": "2024-10-23T19:19:11.917041",
     "status": "completed"
    },
    "tags": []
   },
   "source": [
    "En nuesto caso eliminaremos la columna de name(nombre), home.dest(destino) y cabin, mas que nada por simplicidad\n"
   ]
  },
  {
   "cell_type": "code",
   "execution_count": 4,
   "id": "dea80762",
   "metadata": {
    "execution": {
     "iopub.execute_input": "2024-10-23T19:19:11.984138Z",
     "iopub.status.busy": "2024-10-23T19:19:11.983722Z",
     "iopub.status.idle": "2024-10-23T19:19:11.995975Z",
     "shell.execute_reply": "2024-10-23T19:19:11.994539Z"
    },
    "papermill": {
     "duration": 0.037971,
     "end_time": "2024-10-23T19:19:11.998726",
     "exception": false,
     "start_time": "2024-10-23T19:19:11.960755",
     "status": "completed"
    },
    "tags": []
   },
   "outputs": [],
   "source": [
    "# Podemos hacerlo con la funcion drop, y fijando el axis como 1\n",
    "df = df.drop(['name', 'home.dest', 'cabin'], axis=1)"
   ]
  },
  {
   "cell_type": "code",
   "execution_count": 5,
   "id": "0ed9778a",
   "metadata": {
    "execution": {
     "iopub.execute_input": "2024-10-23T19:19:12.041333Z",
     "iopub.status.busy": "2024-10-23T19:19:12.040882Z",
     "iopub.status.idle": "2024-10-23T19:19:12.061061Z",
     "shell.execute_reply": "2024-10-23T19:19:12.059682Z"
    },
    "papermill": {
     "duration": 0.044586,
     "end_time": "2024-10-23T19:19:12.063727",
     "exception": false,
     "start_time": "2024-10-23T19:19:12.019141",
     "status": "completed"
    },
    "tags": []
   },
   "outputs": [
    {
     "data": {
      "text/html": [
       "<div>\n",
       "<style scoped>\n",
       "    .dataframe tbody tr th:only-of-type {\n",
       "        vertical-align: middle;\n",
       "    }\n",
       "\n",
       "    .dataframe tbody tr th {\n",
       "        vertical-align: top;\n",
       "    }\n",
       "\n",
       "    .dataframe thead th {\n",
       "        text-align: right;\n",
       "    }\n",
       "</style>\n",
       "<table border=\"1\" class=\"dataframe\">\n",
       "  <thead>\n",
       "    <tr style=\"text-align: right;\">\n",
       "      <th></th>\n",
       "      <th>pclass</th>\n",
       "      <th>survived</th>\n",
       "      <th>sex</th>\n",
       "      <th>age</th>\n",
       "      <th>sibsp</th>\n",
       "      <th>parch</th>\n",
       "      <th>ticket</th>\n",
       "      <th>fare</th>\n",
       "      <th>embarked</th>\n",
       "      <th>boat</th>\n",
       "      <th>body</th>\n",
       "    </tr>\n",
       "  </thead>\n",
       "  <tbody>\n",
       "    <tr>\n",
       "      <th>0</th>\n",
       "      <td>1.0</td>\n",
       "      <td>1.0</td>\n",
       "      <td>female</td>\n",
       "      <td>29.0000</td>\n",
       "      <td>0.0</td>\n",
       "      <td>0.0</td>\n",
       "      <td>24160</td>\n",
       "      <td>211.3375</td>\n",
       "      <td>S</td>\n",
       "      <td>2</td>\n",
       "      <td>NaN</td>\n",
       "    </tr>\n",
       "    <tr>\n",
       "      <th>1</th>\n",
       "      <td>1.0</td>\n",
       "      <td>1.0</td>\n",
       "      <td>male</td>\n",
       "      <td>0.9167</td>\n",
       "      <td>1.0</td>\n",
       "      <td>2.0</td>\n",
       "      <td>113781</td>\n",
       "      <td>151.5500</td>\n",
       "      <td>S</td>\n",
       "      <td>11</td>\n",
       "      <td>NaN</td>\n",
       "    </tr>\n",
       "    <tr>\n",
       "      <th>2</th>\n",
       "      <td>1.0</td>\n",
       "      <td>0.0</td>\n",
       "      <td>female</td>\n",
       "      <td>2.0000</td>\n",
       "      <td>1.0</td>\n",
       "      <td>2.0</td>\n",
       "      <td>113781</td>\n",
       "      <td>151.5500</td>\n",
       "      <td>S</td>\n",
       "      <td>NaN</td>\n",
       "      <td>NaN</td>\n",
       "    </tr>\n",
       "  </tbody>\n",
       "</table>\n",
       "</div>"
      ],
      "text/plain": [
       "   pclass  survived     sex      age  sibsp  parch  ticket      fare embarked  \\\n",
       "0     1.0       1.0  female  29.0000    0.0    0.0   24160  211.3375        S   \n",
       "1     1.0       1.0    male   0.9167    1.0    2.0  113781  151.5500        S   \n",
       "2     1.0       0.0  female   2.0000    1.0    2.0  113781  151.5500        S   \n",
       "\n",
       "  boat  body  \n",
       "0    2   NaN  \n",
       "1   11   NaN  \n",
       "2  NaN   NaN  "
      ]
     },
     "execution_count": 5,
     "metadata": {},
     "output_type": "execute_result"
    }
   ],
   "source": [
    "# Como se puede ver, ya no existe esta columna \n",
    "df.head(3)"
   ]
  },
  {
   "cell_type": "code",
   "execution_count": 6,
   "id": "a0b3a464",
   "metadata": {
    "execution": {
     "iopub.execute_input": "2024-10-23T19:19:12.107499Z",
     "iopub.status.busy": "2024-10-23T19:19:12.107045Z",
     "iopub.status.idle": "2024-10-23T19:19:12.120125Z",
     "shell.execute_reply": "2024-10-23T19:19:12.118614Z"
    },
    "papermill": {
     "duration": 0.038473,
     "end_time": "2024-10-23T19:19:12.122937",
     "exception": false,
     "start_time": "2024-10-23T19:19:12.084464",
     "status": "completed"
    },
    "tags": []
   },
   "outputs": [],
   "source": [
    "# También vamos a eliminar las filas donde survived tenga un valor nulo.\n",
    "df = df.dropna(subset=['survived'])"
   ]
  },
  {
   "cell_type": "markdown",
   "id": "9f44b37c",
   "metadata": {
    "papermill": {
     "duration": 0.020479,
     "end_time": "2024-10-23T19:19:12.165105",
     "exception": false,
     "start_time": "2024-10-23T19:19:12.144626",
     "status": "completed"
    },
    "tags": []
   },
   "source": [
    "### B.- Correccion de errores."
   ]
  },
  {
   "cell_type": "code",
   "execution_count": 7,
   "id": "e207b854",
   "metadata": {
    "execution": {
     "iopub.execute_input": "2024-10-23T19:19:12.211014Z",
     "iopub.status.busy": "2024-10-23T19:19:12.210546Z",
     "iopub.status.idle": "2024-10-23T19:19:12.230298Z",
     "shell.execute_reply": "2024-10-23T19:19:12.229045Z"
    },
    "papermill": {
     "duration": 0.046514,
     "end_time": "2024-10-23T19:19:12.233216",
     "exception": false,
     "start_time": "2024-10-23T19:19:12.186702",
     "status": "completed"
    },
    "tags": []
   },
   "outputs": [
    {
     "data": {
      "text/html": [
       "<div>\n",
       "<style scoped>\n",
       "    .dataframe tbody tr th:only-of-type {\n",
       "        vertical-align: middle;\n",
       "    }\n",
       "\n",
       "    .dataframe tbody tr th {\n",
       "        vertical-align: top;\n",
       "    }\n",
       "\n",
       "    .dataframe thead th {\n",
       "        text-align: right;\n",
       "    }\n",
       "</style>\n",
       "<table border=\"1\" class=\"dataframe\">\n",
       "  <thead>\n",
       "    <tr style=\"text-align: right;\">\n",
       "      <th></th>\n",
       "      <th>pclass</th>\n",
       "      <th>survived</th>\n",
       "      <th>sex</th>\n",
       "      <th>age</th>\n",
       "      <th>sibsp</th>\n",
       "      <th>parch</th>\n",
       "      <th>ticket</th>\n",
       "      <th>fare</th>\n",
       "      <th>embarked</th>\n",
       "      <th>boat</th>\n",
       "      <th>body</th>\n",
       "    </tr>\n",
       "  </thead>\n",
       "  <tbody>\n",
       "    <tr>\n",
       "      <th>0</th>\n",
       "      <td>1.0</td>\n",
       "      <td>1.0</td>\n",
       "      <td>female</td>\n",
       "      <td>29.0000</td>\n",
       "      <td>0.0</td>\n",
       "      <td>0.0</td>\n",
       "      <td>24160</td>\n",
       "      <td>211.3375</td>\n",
       "      <td>S</td>\n",
       "      <td>2</td>\n",
       "      <td>NaN</td>\n",
       "    </tr>\n",
       "    <tr>\n",
       "      <th>1</th>\n",
       "      <td>1.0</td>\n",
       "      <td>1.0</td>\n",
       "      <td>male</td>\n",
       "      <td>0.9167</td>\n",
       "      <td>1.0</td>\n",
       "      <td>2.0</td>\n",
       "      <td>113781</td>\n",
       "      <td>151.5500</td>\n",
       "      <td>S</td>\n",
       "      <td>11</td>\n",
       "      <td>NaN</td>\n",
       "    </tr>\n",
       "    <tr>\n",
       "      <th>2</th>\n",
       "      <td>1.0</td>\n",
       "      <td>0.0</td>\n",
       "      <td>female</td>\n",
       "      <td>2.0000</td>\n",
       "      <td>1.0</td>\n",
       "      <td>2.0</td>\n",
       "      <td>113781</td>\n",
       "      <td>151.5500</td>\n",
       "      <td>S</td>\n",
       "      <td>NaN</td>\n",
       "      <td>NaN</td>\n",
       "    </tr>\n",
       "  </tbody>\n",
       "</table>\n",
       "</div>"
      ],
      "text/plain": [
       "   pclass  survived     sex      age  sibsp  parch  ticket      fare embarked  \\\n",
       "0     1.0       1.0  female  29.0000    0.0    0.0   24160  211.3375        S   \n",
       "1     1.0       1.0    male   0.9167    1.0    2.0  113781  151.5500        S   \n",
       "2     1.0       0.0  female   2.0000    1.0    2.0  113781  151.5500        S   \n",
       "\n",
       "  boat  body  \n",
       "0    2   NaN  \n",
       "1   11   NaN  \n",
       "2  NaN   NaN  "
      ]
     },
     "execution_count": 7,
     "metadata": {},
     "output_type": "execute_result"
    }
   ],
   "source": [
    "df.head(3)"
   ]
  },
  {
   "cell_type": "code",
   "execution_count": 8,
   "id": "537784e8",
   "metadata": {
    "execution": {
     "iopub.execute_input": "2024-10-23T19:19:12.278975Z",
     "iopub.status.busy": "2024-10-23T19:19:12.278525Z",
     "iopub.status.idle": "2024-10-23T19:19:12.302886Z",
     "shell.execute_reply": "2024-10-23T19:19:12.301445Z"
    },
    "papermill": {
     "duration": 0.050324,
     "end_time": "2024-10-23T19:19:12.305517",
     "exception": false,
     "start_time": "2024-10-23T19:19:12.255193",
     "status": "completed"
    },
    "tags": []
   },
   "outputs": [
    {
     "name": "stdout",
     "output_type": "stream",
     "text": [
      "<class 'pandas.core.frame.DataFrame'>\n",
      "Index: 1309 entries, 0 to 1308\n",
      "Data columns (total 11 columns):\n",
      " #   Column    Non-Null Count  Dtype  \n",
      "---  ------    --------------  -----  \n",
      " 0   pclass    1309 non-null   float64\n",
      " 1   survived  1309 non-null   float64\n",
      " 2   sex       1309 non-null   object \n",
      " 3   age       1046 non-null   float64\n",
      " 4   sibsp     1309 non-null   float64\n",
      " 5   parch     1309 non-null   float64\n",
      " 6   ticket    1309 non-null   object \n",
      " 7   fare      1308 non-null   float64\n",
      " 8   embarked  1307 non-null   object \n",
      " 9   boat      486 non-null    object \n",
      " 10  body      121 non-null    float64\n",
      "dtypes: float64(7), object(4)\n",
      "memory usage: 122.7+ KB\n"
     ]
    }
   ],
   "source": [
    "df.info()"
   ]
  },
  {
   "cell_type": "markdown",
   "id": "33bbca63",
   "metadata": {
    "papermill": {
     "duration": 0.02091,
     "end_time": "2024-10-23T19:19:12.347454",
     "exception": false,
     "start_time": "2024-10-23T19:19:12.326544",
     "status": "completed"
    },
    "tags": []
   },
   "source": [
    " Vamos a:\n",
    " - Cambiar el formato de ticket, ya que aunque sea una categoria, al utilizar one-hot-encoder, nos daria muchisimas columnas\n",
    " - Cambiar los nulos de body (nº identif.cuerpo) a 0, ya que si es nulo significa que el cuerpo no se recupero, y nos daria una falsa clasificacion al imputar.\n",
    " \n",
    " En este caso solo realizaremos estas dos correcciones, pero podria pasar que tengamos datos duplicados, errores tipograficos, formato incorrecto o incompletos, error de redondeo, datos desactualizados, etc.."
   ]
  },
  {
   "cell_type": "code",
   "execution_count": 9,
   "id": "04f8a127",
   "metadata": {
    "execution": {
     "iopub.execute_input": "2024-10-23T19:19:12.391988Z",
     "iopub.status.busy": "2024-10-23T19:19:12.391071Z",
     "iopub.status.idle": "2024-10-23T19:19:12.399440Z",
     "shell.execute_reply": "2024-10-23T19:19:12.398199Z"
    },
    "papermill": {
     "duration": 0.033477,
     "end_time": "2024-10-23T19:19:12.402058",
     "exception": false,
     "start_time": "2024-10-23T19:19:12.368581",
     "status": "completed"
    },
    "tags": []
   },
   "outputs": [],
   "source": [
    "df['ticket'] = pd.to_numeric(df['ticket'], errors='coerce')"
   ]
  },
  {
   "cell_type": "code",
   "execution_count": 10,
   "id": "e6cdc4cb",
   "metadata": {
    "execution": {
     "iopub.execute_input": "2024-10-23T19:19:12.446655Z",
     "iopub.status.busy": "2024-10-23T19:19:12.445732Z",
     "iopub.status.idle": "2024-10-23T19:19:12.452540Z",
     "shell.execute_reply": "2024-10-23T19:19:12.451122Z"
    },
    "papermill": {
     "duration": 0.032045,
     "end_time": "2024-10-23T19:19:12.455071",
     "exception": false,
     "start_time": "2024-10-23T19:19:12.423026",
     "status": "completed"
    },
    "tags": []
   },
   "outputs": [],
   "source": [
    "df['body'] = df['body'].fillna(0)"
   ]
  },
  {
   "cell_type": "markdown",
   "id": "1e4ecd03",
   "metadata": {
    "papermill": {
     "duration": 0.021083,
     "end_time": "2024-10-23T19:19:12.497203",
     "exception": false,
     "start_time": "2024-10-23T19:19:12.476120",
     "status": "completed"
    },
    "tags": []
   },
   "source": [
    "### C.- Eliminación de valores atípicos"
   ]
  },
  {
   "cell_type": "markdown",
   "id": "0cb2dff2",
   "metadata": {
    "papermill": {
     "duration": 0.020762,
     "end_time": "2024-10-23T19:19:12.539098",
     "exception": false,
     "start_time": "2024-10-23T19:19:12.518336",
     "status": "completed"
    },
    "tags": []
   },
   "source": [
    "Vamos a eliminar algunos valores atípicos, en esta visualización vemos algunos, si quieres ver como se hacen estas visualizaciones puedes ver mi otro notebook de analisis y visualización de datos."
   ]
  },
  {
   "cell_type": "code",
   "execution_count": 11,
   "id": "b7d79068",
   "metadata": {
    "_kg_hide-input": true,
    "execution": {
     "iopub.execute_input": "2024-10-23T19:19:12.647451Z",
     "iopub.status.busy": "2024-10-23T19:19:12.646316Z",
     "iopub.status.idle": "2024-10-23T19:19:13.905701Z",
     "shell.execute_reply": "2024-10-23T19:19:13.904482Z"
    },
    "papermill": {
     "duration": 1.348184,
     "end_time": "2024-10-23T19:19:13.908342",
     "exception": false,
     "start_time": "2024-10-23T19:19:12.560158",
     "status": "completed"
    },
    "tags": []
   },
   "outputs": [
    {
     "data": {
      "image/png": "[encoded data removed]",
      "text/plain": [
       "<Figure size 1000x500 with 6 Axes>"
      ]
     },
     "metadata": {},
     "output_type": "display_data"
    }
   ],
   "source": [
    "df_num = ['pclass', 'survived', 'sibsp', 'parch', 'fare', 'body']\n",
    "\n",
    "plt.figure(figsize=(10, 5), dpi=100)\n",
    "\n",
    "for i, columna in enumerate(df_num, start=1):\n",
    "    plt.subplot(3, 4, i)\n",
    "    sns.boxplot(data=df, x=columna, width=0.5)\n",
    "    \n",
    "    plt.tight_layout()\n",
    "    "
   ]
  },
  {
   "cell_type": "markdown",
   "id": "4b4a07f5",
   "metadata": {
    "execution": {
     "iopub.execute_input": "2024-08-16T17:43:41.348389Z",
     "iopub.status.busy": "2024-08-16T17:43:41.347915Z",
     "iopub.status.idle": "2024-08-16T17:43:41.357297Z",
     "shell.execute_reply": "2024-08-16T17:43:41.355548Z",
     "shell.execute_reply.started": "2024-08-16T17:43:41.348337Z"
    },
    "papermill": {
     "duration": 0.021498,
     "end_time": "2024-10-23T19:19:13.952954",
     "exception": false,
     "start_time": "2024-10-23T19:19:13.931456",
     "status": "completed"
    },
    "tags": []
   },
   "source": [
    "En este caso solo eliminaremos los de sibsp , ya que los otros no son como tal un valor atipico sino que son mas categorias que valores numericos.\n",
    "\n",
    "\n",
    "Para hacerlo mas sencillo, en este caso haremos una funcion para utilizarlo a las columnas que querramos, esto nos permitira tambien reutilizar el codigo."
   ]
  },
  {
   "cell_type": "code",
   "execution_count": 12,
   "id": "58af08ec",
   "metadata": {
    "execution": {
     "iopub.execute_input": "2024-10-23T19:19:14.002159Z",
     "iopub.status.busy": "2024-10-23T19:19:14.000681Z",
     "iopub.status.idle": "2024-10-23T19:19:14.009167Z",
     "shell.execute_reply": "2024-10-23T19:19:14.007831Z"
    },
    "papermill": {
     "duration": 0.03737,
     "end_time": "2024-10-23T19:19:14.012126",
     "exception": false,
     "start_time": "2024-10-23T19:19:13.974756",
     "status": "completed"
    },
    "tags": []
   },
   "outputs": [],
   "source": [
    "def recortar_valores_atípicos(df, columnas):\n",
    "    for columna in columnas:\n",
    "        q1 = df[columna].quantile(0.25) # Primer cuartil (25%)\n",
    "        q3 = df[columna].quantile(0.75) # Segundo cuartil (75%)\n",
    "        \n",
    "        iqr = q3 - q1 # Rango intercuartil\n",
    "        \n",
    "        limite_inferior = q1 - 1.5 * iqr\n",
    "        limite_superior = q3 + 1.5 * iqr\n",
    "        \n",
    "        # Recorte de valores atipicos\n",
    "        \n",
    "    df[columna] = df[columna].clip(lower=limite_inferior, upper=limite_superior)"
   ]
  },
  {
   "cell_type": "code",
   "execution_count": 13,
   "id": "ac0b6b37",
   "metadata": {
    "execution": {
     "iopub.execute_input": "2024-10-23T19:19:14.058414Z",
     "iopub.status.busy": "2024-10-23T19:19:14.057965Z",
     "iopub.status.idle": "2024-10-23T19:19:14.070301Z",
     "shell.execute_reply": "2024-10-23T19:19:14.068923Z"
    },
    "papermill": {
     "duration": 0.038473,
     "end_time": "2024-10-23T19:19:14.073129",
     "exception": false,
     "start_time": "2024-10-23T19:19:14.034656",
     "status": "completed"
    },
    "tags": []
   },
   "outputs": [],
   "source": [
    "# Selecionamos las columnas que queremos utilizar la funcion de recorte de valores atípicos.\n",
    "# Con este codigo podemos seleccionar mas de una columna.\n",
    "columnas_a_recortar = ['sibsp']\n",
    "\n",
    "# Utilizamos la función\n",
    "recortar_valores_atípicos(df, columnas_a_recortar)"
   ]
  },
  {
   "cell_type": "code",
   "execution_count": 14,
   "id": "ca235c0f",
   "metadata": {
    "_kg_hide-input": true,
    "execution": {
     "iopub.execute_input": "2024-10-23T19:19:14.120543Z",
     "iopub.status.busy": "2024-10-23T19:19:14.120075Z",
     "iopub.status.idle": "2024-10-23T19:19:14.342024Z",
     "shell.execute_reply": "2024-10-23T19:19:14.340088Z"
    },
    "papermill": {
     "duration": 0.251016,
     "end_time": "2024-10-23T19:19:14.346097",
     "exception": false,
     "start_time": "2024-10-23T19:19:14.095081",
     "status": "completed"
    },
    "tags": []
   },
   "outputs": [
    {
     "data": {
      "text/plain": [
       "<Axes: xlabel='fare'>"
      ]
     },
     "execution_count": 14,
     "metadata": {},
     "output_type": "execute_result"
    },
    {
     "data": {
      "image/png": "[encoded data removed]",
      "text/plain": [
       "<Figure size 400x300 with 1 Axes>"
      ]
     },
     "metadata": {},
     "output_type": "display_data"
    }
   ],
   "source": [
    "plt.figure(figsize=(4, 3))\n",
    "sns.boxplot(data=df, x='fare', width=0.4)"
   ]
  },
  {
   "cell_type": "markdown",
   "id": "2e0e79b6",
   "metadata": {
    "papermill": {
     "duration": 0.024711,
     "end_time": "2024-10-23T19:19:14.394474",
     "exception": false,
     "start_time": "2024-10-23T19:19:14.369763",
     "status": "completed"
    },
    "tags": []
   },
   "source": [
    "Como vemos hemos recortado los valores atipicos."
   ]
  },
  {
   "cell_type": "markdown",
   "id": "1363d1d3",
   "metadata": {
    "papermill": {
     "duration": 0.021638,
     "end_time": "2024-10-23T19:19:14.438417",
     "exception": false,
     "start_time": "2024-10-23T19:19:14.416779",
     "status": "completed"
    },
    "tags": []
   },
   "source": [
    "## 2.- División de datos"
   ]
  },
  {
   "cell_type": "markdown",
   "id": "ed2bb449",
   "metadata": {
    "papermill": {
     "duration": 0.022337,
     "end_time": "2024-10-23T19:19:14.482719",
     "exception": false,
     "start_time": "2024-10-23T19:19:14.460382",
     "status": "completed"
    },
    "tags": []
   },
   "source": [
    "Es una buena practica dividir primero los datos antes de transformarlos, asi que eso haremos.\n",
    "\n",
    "Podemos dividir de dos formas, una mas sencilla que otra, en cross validation y la otra en entrenamiento, validación y prueba"
   ]
  },
  {
   "cell_type": "markdown",
   "id": "bd8ba8b5",
   "metadata": {
    "execution": {
     "iopub.execute_input": "2024-08-16T18:35:01.071513Z",
     "iopub.status.busy": "2024-08-16T18:35:01.070999Z",
     "iopub.status.idle": "2024-08-16T18:35:01.076559Z",
     "shell.execute_reply": "2024-08-16T18:35:01.075325Z",
     "shell.execute_reply.started": "2024-08-16T18:35:01.071460Z"
    },
    "papermill": {
     "duration": 0.021875,
     "end_time": "2024-10-23T19:19:14.527202",
     "exception": false,
     "start_time": "2024-10-23T19:19:14.505327",
     "status": "completed"
    },
    "tags": []
   },
   "source": [
    "### A.- Validación cruzada"
   ]
  },
  {
   "cell_type": "markdown",
   "id": "4a9d1c9b",
   "metadata": {
    "papermill": {
     "duration": 0.021649,
     "end_time": "2024-10-23T19:19:14.571488",
     "exception": false,
     "start_time": "2024-10-23T19:19:14.549839",
     "status": "completed"
    },
    "tags": []
   },
   "source": [
    "En este caso para la validación cruzada solo seleccionamos las columnas(x) y las etiquetas(y)."
   ]
  },
  {
   "cell_type": "code",
   "execution_count": 15,
   "id": "7adb2d8c",
   "metadata": {
    "execution": {
     "iopub.execute_input": "2024-10-23T19:19:14.618574Z",
     "iopub.status.busy": "2024-10-23T19:19:14.618090Z",
     "iopub.status.idle": "2024-10-23T19:19:14.625790Z",
     "shell.execute_reply": "2024-10-23T19:19:14.624462Z"
    },
    "papermill": {
     "duration": 0.034781,
     "end_time": "2024-10-23T19:19:14.628851",
     "exception": false,
     "start_time": "2024-10-23T19:19:14.594070",
     "status": "completed"
    },
    "tags": []
   },
   "outputs": [],
   "source": [
    "x = df.drop('survived', axis=1)\n",
    "y = df['survived']"
   ]
  },
  {
   "cell_type": "markdown",
   "id": "4ae390c2",
   "metadata": {
    "papermill": {
     "duration": 0.021862,
     "end_time": "2024-10-23T19:19:14.674966",
     "exception": false,
     "start_time": "2024-10-23T19:19:14.653104",
     "status": "completed"
    },
    "tags": []
   },
   "source": [
    "### B.- Entrenamiento, validación y prueba."
   ]
  },
  {
   "cell_type": "markdown",
   "id": "59753daf",
   "metadata": {
    "papermill": {
     "duration": 0.021856,
     "end_time": "2024-10-23T19:19:14.719143",
     "exception": false,
     "start_time": "2024-10-23T19:19:14.697287",
     "status": "completed"
    },
    "tags": []
   },
   "source": [
    "En este caso aparte de dividir en X y Y, tambien vamos a dividirlo en entrenamiento, validación y prueba, para eso usaremos la funcion train_test_split de sklearn"
   ]
  },
  {
   "cell_type": "code",
   "execution_count": 16,
   "id": "b8c82b5a",
   "metadata": {
    "execution": {
     "iopub.execute_input": "2024-10-23T19:19:14.766323Z",
     "iopub.status.busy": "2024-10-23T19:19:14.765841Z",
     "iopub.status.idle": "2024-10-23T19:19:14.773352Z",
     "shell.execute_reply": "2024-10-23T19:19:14.772030Z"
    },
    "papermill": {
     "duration": 0.034164,
     "end_time": "2024-10-23T19:19:14.776531",
     "exception": false,
     "start_time": "2024-10-23T19:19:14.742367",
     "status": "completed"
    },
    "tags": []
   },
   "outputs": [],
   "source": [
    "x = df.drop('survived', axis=1)\n",
    "y = df['survived']"
   ]
  },
  {
   "cell_type": "code",
   "execution_count": 17,
   "id": "eceb6ef1",
   "metadata": {
    "execution": {
     "iopub.execute_input": "2024-10-23T19:19:14.823867Z",
     "iopub.status.busy": "2024-10-23T19:19:14.823428Z",
     "iopub.status.idle": "2024-10-23T19:19:15.158080Z",
     "shell.execute_reply": "2024-10-23T19:19:15.156546Z"
    },
    "papermill": {
     "duration": 0.36224,
     "end_time": "2024-10-23T19:19:15.160960",
     "exception": false,
     "start_time": "2024-10-23T19:19:14.798720",
     "status": "completed"
    },
    "tags": []
   },
   "outputs": [],
   "source": [
    "# Importamos la funcion\n",
    "from sklearn.model_selection import train_test_split\n",
    "\n",
    "# Aqui ya estos dividiendo los datos en entrenamiento y prueba, test_size nos dice que porcentaje va al test, en este caso el 3% de los datos\n",
    "x_train, x_test, y_train, y_test = train_test_split(x, y, test_size=0.3, random_state=42)\n",
    "\n",
    "# Ahora vamos a dividir test en la mitad, para tener validacion y test a la vez.\n",
    "x_val, x_test, y_val, y_test = train_test_split(x_test, y_test, test_size=0.5)"
   ]
  },
  {
   "cell_type": "markdown",
   "id": "77d51acf",
   "metadata": {
    "papermill": {
     "duration": 0.022275,
     "end_time": "2024-10-23T19:19:15.206015",
     "exception": false,
     "start_time": "2024-10-23T19:19:15.183740",
     "status": "completed"
    },
    "tags": []
   },
   "source": [
    "## 3.- Transformación de datos"
   ]
  },
  {
   "cell_type": "markdown",
   "id": "b6725260",
   "metadata": {
    "papermill": {
     "duration": 0.022431,
     "end_time": "2024-10-23T19:19:15.250561",
     "exception": false,
     "start_time": "2024-10-23T19:19:15.228130",
     "status": "completed"
    },
    "tags": []
   },
   "source": [
    "Podemos utilizar cada utilidad por separado para cada transformación(imputación, codificación y escalado), pero para entenderlo mejor y reducir el código utilizaremos un pipeline, este código igual se puede copiar y reutilizar."
   ]
  },
  {
   "cell_type": "code",
   "execution_count": 18,
   "id": "16ebf211",
   "metadata": {
    "_kg_hide-input": true,
    "execution": {
     "iopub.execute_input": "2024-10-23T19:19:15.298478Z",
     "iopub.status.busy": "2024-10-23T19:19:15.298018Z",
     "iopub.status.idle": "2024-10-23T19:19:15.504647Z",
     "shell.execute_reply": "2024-10-23T19:19:15.503284Z"
    },
    "papermill": {
     "duration": 0.234863,
     "end_time": "2024-10-23T19:19:15.507725",
     "exception": false,
     "start_time": "2024-10-23T19:19:15.272862",
     "status": "completed"
    },
    "tags": []
   },
   "outputs": [],
   "source": [
    "# importamos las clases que necesitaremos\n",
    "from sklearn.pipeline import Pipeline\n",
    "from sklearn.impute import SimpleImputer\n",
    "from sklearn.preprocessing import RobustScaler, OneHotEncoder\n",
    "from sklearn.compose import ColumnTransformer"
   ]
  },
  {
   "cell_type": "markdown",
   "id": "27b83cbc",
   "metadata": {
    "execution": {
     "iopub.execute_input": "2024-08-17T16:33:46.588052Z",
     "iopub.status.busy": "2024-08-17T16:33:46.587632Z",
     "iopub.status.idle": "2024-08-17T16:33:46.596272Z",
     "shell.execute_reply": "2024-08-17T16:33:46.594717Z",
     "shell.execute_reply.started": "2024-08-17T16:33:46.588022Z"
    },
    "papermill": {
     "duration": 0.021762,
     "end_time": "2024-10-23T19:19:15.551778",
     "exception": false,
     "start_time": "2024-10-23T19:19:15.530016",
     "status": "completed"
    },
    "tags": []
   },
   "source": [
    "\n",
    "En este caso vamos a imputar, escalar y codificar los datos con un pipeline, para simplicidad y escalabilidad, ya que lo podemos copiar y reutilizar perfectamente y hacer pequeñas modificaciones si es necesario."
   ]
  },
  {
   "cell_type": "code",
   "execution_count": 19,
   "id": "4148d4c6",
   "metadata": {
    "execution": {
     "iopub.execute_input": "2024-10-23T19:19:15.599600Z",
     "iopub.status.busy": "2024-10-23T19:19:15.599152Z",
     "iopub.status.idle": "2024-10-23T19:19:15.608081Z",
     "shell.execute_reply": "2024-10-23T19:19:15.606718Z"
    },
    "papermill": {
     "duration": 0.036686,
     "end_time": "2024-10-23T19:19:15.610856",
     "exception": false,
     "start_time": "2024-10-23T19:19:15.574170",
     "status": "completed"
    },
    "tags": []
   },
   "outputs": [],
   "source": [
    "# Elegimos las columnas categoricas y en otra las numericas\n",
    "colum_num = x.select_dtypes(include=['int64', 'float64']).columns.tolist()\n",
    "colum_cat = x.select_dtypes(include=['object']).columns.tolist()"
   ]
  },
  {
   "cell_type": "code",
   "execution_count": 20,
   "id": "156bae0e",
   "metadata": {
    "execution": {
     "iopub.execute_input": "2024-10-23T19:19:15.659306Z",
     "iopub.status.busy": "2024-10-23T19:19:15.658403Z",
     "iopub.status.idle": "2024-10-23T19:19:15.664206Z",
     "shell.execute_reply": "2024-10-23T19:19:15.663015Z"
    },
    "papermill": {
     "duration": 0.03336,
     "end_time": "2024-10-23T19:19:15.666774",
     "exception": false,
     "start_time": "2024-10-23T19:19:15.633414",
     "status": "completed"
    },
    "tags": []
   },
   "outputs": [],
   "source": [
    "# Creamos un pipeline para las columnas numericas, que son de imputacion y escalado.\n",
    "numeric_pipeline = Pipeline([\n",
    "    ('imputer', SimpleImputer(strategy='mean')),\n",
    "    ('scaler', RobustScaler())\n",
    "])"
   ]
  },
  {
   "cell_type": "code",
   "execution_count": 21,
   "id": "9a5ca6b3",
   "metadata": {
    "execution": {
     "iopub.execute_input": "2024-10-23T19:19:15.713371Z",
     "iopub.status.busy": "2024-10-23T19:19:15.712895Z",
     "iopub.status.idle": "2024-10-23T19:19:15.719280Z",
     "shell.execute_reply": "2024-10-23T19:19:15.717815Z"
    },
    "papermill": {
     "duration": 0.033105,
     "end_time": "2024-10-23T19:19:15.721904",
     "exception": false,
     "start_time": "2024-10-23T19:19:15.688799",
     "status": "completed"
    },
    "tags": []
   },
   "outputs": [],
   "source": [
    "# Este pipeline es para columnas no numericas o categoricas.\n",
    "categorical_pipeline = Pipeline([\n",
    "    ('imputer', SimpleImputer(strategy='most_frequent')),\n",
    "    ('encoder',OneHotEncoder(handle_unknown='ignore', sparse_output=False))\n",
    "])"
   ]
  },
  {
   "cell_type": "code",
   "execution_count": 22,
   "id": "2a70e3c0",
   "metadata": {
    "execution": {
     "iopub.execute_input": "2024-10-23T19:19:15.769759Z",
     "iopub.status.busy": "2024-10-23T19:19:15.769315Z",
     "iopub.status.idle": "2024-10-23T19:19:15.775343Z",
     "shell.execute_reply": "2024-10-23T19:19:15.773896Z"
    },
    "papermill": {
     "duration": 0.033162,
     "end_time": "2024-10-23T19:19:15.778213",
     "exception": false,
     "start_time": "2024-10-23T19:19:15.745051",
     "status": "completed"
    },
    "tags": []
   },
   "outputs": [],
   "source": [
    "# Ahora uniremos los dos pipelines con columntransformer.\n",
    "pipeline = ColumnTransformer([\n",
    "    ('num', numeric_pipeline, colum_num),\n",
    "    ('cat', categorical_pipeline, colum_cat)\n",
    "])"
   ]
  },
  {
   "cell_type": "markdown",
   "id": "eaa4f1b8",
   "metadata": {
    "papermill": {
     "duration": 0.022018,
     "end_time": "2024-10-23T19:19:15.822477",
     "exception": false,
     "start_time": "2024-10-23T19:19:15.800459",
     "status": "completed"
    },
    "tags": []
   },
   "source": [
    "Cualquier linea de código anterior se puede modificar, o utilizar solo el pipeline categorico o la numerico."
   ]
  },
  {
   "cell_type": "code",
   "execution_count": 23,
   "id": "3097a294",
   "metadata": {
    "execution": {
     "iopub.execute_input": "2024-10-23T19:19:15.869114Z",
     "iopub.status.busy": "2024-10-23T19:19:15.868632Z",
     "iopub.status.idle": "2024-10-23T19:19:15.912489Z",
     "shell.execute_reply": "2024-10-23T19:19:15.911307Z"
    },
    "papermill": {
     "duration": 0.070453,
     "end_time": "2024-10-23T19:19:15.915327",
     "exception": false,
     "start_time": "2024-10-23T19:19:15.844874",
     "status": "completed"
    },
    "tags": []
   },
   "outputs": [],
   "source": [
    "# Utilizamos el pipeline.\n",
    "\n",
    "x_train_pip = pipeline.fit_transform(x_train)\n",
    "# La primera siempre es fit_transform y las siguientes solo transform.\n",
    "x_val_pip = pipeline.transform(x_val)\n",
    "x_test_pip = pipeline.transform(x_test)"
   ]
  },
  {
   "cell_type": "markdown",
   "id": "ab050a8a",
   "metadata": {
    "papermill": {
     "duration": 0.022009,
     "end_time": "2024-10-23T19:19:15.959935",
     "exception": false,
     "start_time": "2024-10-23T19:19:15.937926",
     "status": "completed"
    },
    "tags": []
   },
   "source": [
    "Como en este caso hemos utilizado la codificación, tenemos que obtener el nombre de las columnas, ya que esta en un formato array."
   ]
  },
  {
   "cell_type": "code",
   "execution_count": 24,
   "id": "a475eb2f",
   "metadata": {
    "execution": {
     "iopub.execute_input": "2024-10-23T19:19:16.010018Z",
     "iopub.status.busy": "2024-10-23T19:19:16.009571Z",
     "iopub.status.idle": "2024-10-23T19:19:16.018880Z",
     "shell.execute_reply": "2024-10-23T19:19:16.017147Z"
    },
    "papermill": {
     "duration": 0.038447,
     "end_time": "2024-10-23T19:19:16.022120",
     "exception": false,
     "start_time": "2024-10-23T19:19:15.983673",
     "status": "completed"
    },
    "tags": []
   },
   "outputs": [],
   "source": [
    "num_features = colum_num\n",
    "\n",
    "# Ahora obtenemos los nombres de las columnas categóricas transformadas (generadas por OneHotEncoder)\n",
    "cat_features = pipeline.named_transformers_['cat']['encoder'].get_feature_names_out(colum_cat)\n",
    "\n",
    "# Combinamos los nombres de todas las columnas\n",
    "all_columns = list(num_features) + list(cat_features)\n",
    "\n",
    "# Convertimos el array a un DataFrame usando los nombres de las columnas\n",
    "x_train_prep = pd.DataFrame(x_train_pip, columns=all_columns)\n",
    "x_val_prep = pd.DataFrame(x_val_pip, columns=all_columns)\n",
    "x_test_prep = pd.DataFrame(x_test_pip, columns=all_columns)"
   ]
  },
  {
   "cell_type": "markdown",
   "id": "2bb1a051",
   "metadata": {
    "papermill": {
     "duration": 0.022165,
     "end_time": "2024-10-23T19:19:16.066654",
     "exception": false,
     "start_time": "2024-10-23T19:19:16.044489",
     "status": "completed"
    },
    "tags": []
   },
   "source": [
    "## 4.- Selección o extracción de características."
   ]
  },
  {
   "cell_type": "markdown",
   "id": "2ca122a5",
   "metadata": {
    "papermill": {
     "duration": 0.021944,
     "end_time": "2024-10-23T19:19:16.110778",
     "exception": false,
     "start_time": "2024-10-23T19:19:16.088834",
     "status": "completed"
    },
    "tags": []
   },
   "source": [
    "Solo hay que aplicar uno de los dos, en este caso como no tenemos variables altamente relacionadas ni demasiadas columnas vamos a aplicar selección de caracteriscas pero igual veremos como seria la extracción de caracteristicas."
   ]
  },
  {
   "cell_type": "markdown",
   "id": "3e461ccd",
   "metadata": {
    "papermill": {
     "duration": 0.022512,
     "end_time": "2024-10-23T19:19:16.155502",
     "exception": false,
     "start_time": "2024-10-23T19:19:16.132990",
     "status": "completed"
    },
    "tags": []
   },
   "source": [
    "### A.- Selección de caracteristicas."
   ]
  },
  {
   "cell_type": "markdown",
   "id": "578d1392",
   "metadata": {
    "papermill": {
     "duration": 0.022686,
     "end_time": "2024-10-23T19:19:16.201120",
     "exception": false,
     "start_time": "2024-10-23T19:19:16.178434",
     "status": "completed"
    },
    "tags": []
   },
   "source": [
    "La selección de caracteristicas es el proceso de elegir las variables más relevantes de un conjunto de datos, eliminando aquellas que no aportan valor o que pueden generar ruido, para mejorar el rendimiento del modelo y reducir su complejidad."
   ]
  },
  {
   "cell_type": "code",
   "execution_count": 25,
   "id": "89f4bbc1",
   "metadata": {
    "execution": {
     "iopub.execute_input": "2024-10-23T19:19:16.247975Z",
     "iopub.status.busy": "2024-10-23T19:19:16.247500Z",
     "iopub.status.idle": "2024-10-23T19:19:16.414846Z",
     "shell.execute_reply": "2024-10-23T19:19:16.413513Z"
    },
    "papermill": {
     "duration": 0.194599,
     "end_time": "2024-10-23T19:19:16.417908",
     "exception": false,
     "start_time": "2024-10-23T19:19:16.223309",
     "status": "completed"
    },
    "tags": []
   },
   "outputs": [
    {
     "data": {
      "text/html": [
       "<style>#sk-container-id-1 {color: black;background-color: white;}#sk-container-id-1 pre{padding: 0;}#sk-container-id-1 div.sk-toggleable {background-color: white;}#sk-container-id-1 label.sk-toggleable__label {cursor: pointer;display: block;width: 100%;margin-bottom: 0;padding: 0.3em;box-sizing: border-box;text-align: center;}#sk-container-id-1 label.sk-toggleable__label-arrow:before {content: \"▸\";float: left;margin-right: 0.25em;color: #696969;}#sk-container-id-1 label.sk-toggleable__label-arrow:hover:before {color: black;}#sk-container-id-1 div.sk-estimator:hover label.sk-toggleable__label-arrow:before {color: black;}#sk-container-id-1 div.sk-toggleable__content {max-height: 0;max-width: 0;overflow: hidden;text-align: left;background-color: #f0f8ff;}#sk-container-id-1 div.sk-toggleable__content pre {margin: 0.2em;color: black;border-radius: 0.25em;background-color: #f0f8ff;}#sk-container-id-1 input.sk-toggleable__control:checked~div.sk-toggleable__content {max-height: 200px;max-width: 100%;overflow: auto;}#sk-container-id-1 input.sk-toggleable__control:checked~label.sk-toggleable__label-arrow:before {content: \"▾\";}#sk-container-id-1 div.sk-estimator input.sk-toggleable__control:checked~label.sk-toggleable__label {background-color: #d4ebff;}#sk-container-id-1 div.sk-label input.sk-toggleable__control:checked~label.sk-toggleable__label {background-color: #d4ebff;}#sk-container-id-1 input.sk-hidden--visually {border: 0;clip: rect(1px 1px 1px 1px);clip: rect(1px, 1px, 1px, 1px);height: 1px;margin: -1px;overflow: hidden;padding: 0;position: absolute;width: 1px;}#sk-container-id-1 div.sk-estimator {font-family: monospace;background-color: #f0f8ff;border: 1px dotted black;border-radius: 0.25em;box-sizing: border-box;margin-bottom: 0.5em;}#sk-container-id-1 div.sk-estimator:hover {background-color: #d4ebff;}#sk-container-id-1 div.sk-parallel-item::after {content: \"\";width: 100%;border-bottom: 1px solid gray;flex-grow: 1;}#sk-container-id-1 div.sk-label:hover label.sk-toggleable__label {background-color: #d4ebff;}#sk-container-id-1 div.sk-serial::before {content: \"\";position: absolute;border-left: 1px solid gray;box-sizing: border-box;top: 0;bottom: 0;left: 50%;z-index: 0;}#sk-container-id-1 div.sk-serial {display: flex;flex-direction: column;align-items: center;background-color: white;padding-right: 0.2em;padding-left: 0.2em;position: relative;}#sk-container-id-1 div.sk-item {position: relative;z-index: 1;}#sk-container-id-1 div.sk-parallel {display: flex;align-items: stretch;justify-content: center;background-color: white;position: relative;}#sk-container-id-1 div.sk-item::before, #sk-container-id-1 div.sk-parallel-item::before {content: \"\";position: absolute;border-left: 1px solid gray;box-sizing: border-box;top: 0;bottom: 0;left: 50%;z-index: -1;}#sk-container-id-1 div.sk-parallel-item {display: flex;flex-direction: column;z-index: 1;position: relative;background-color: white;}#sk-container-id-1 div.sk-parallel-item:first-child::after {align-self: flex-end;width: 50%;}#sk-container-id-1 div.sk-parallel-item:last-child::after {align-self: flex-start;width: 50%;}#sk-container-id-1 div.sk-parallel-item:only-child::after {width: 0;}#sk-container-id-1 div.sk-dashed-wrapped {border: 1px dashed gray;margin: 0 0.4em 0.5em 0.4em;box-sizing: border-box;padding-bottom: 0.4em;background-color: white;}#sk-container-id-1 div.sk-label label {font-family: monospace;font-weight: bold;display: inline-block;line-height: 1.2em;}#sk-container-id-1 div.sk-label-container {text-align: center;}#sk-container-id-1 div.sk-container {/* jupyter's `normalize.less` sets `[hidden] { display: none; }` but bootstrap.min.css set `[hidden] { display: none !important; }` so we also need the `!important` here to be able to override the default hidden behavior on the sphinx rendered scikit-learn.org. See: https://github.com/scikit-learn/scikit-learn/issues/21755 */display: inline-block !important;position: relative;}#sk-container-id-1 div.sk-text-repr-fallback {display: none;}</style><div id=\"sk-container-id-1\" class=\"sk-top-container\"><div class=\"sk-text-repr-fallback\"><pre>RandomForestClassifier(n_estimators=10)</pre><b>In a Jupyter environment, please rerun this cell to show the HTML representation or trust the notebook. <br />On GitHub, the HTML representation is unable to render, please try loading this page with nbviewer.org.</b></div><div class=\"sk-container\" hidden><div class=\"sk-item\"><div class=\"sk-estimator sk-toggleable\"><input class=\"sk-toggleable__control sk-hidden--visually\" id=\"sk-estimator-id-1\" type=\"checkbox\" checked><label for=\"sk-estimator-id-1\" class=\"sk-toggleable__label sk-toggleable__label-arrow\">RandomForestClassifier</label><div class=\"sk-toggleable__content\"><pre>RandomForestClassifier(n_estimators=10)</pre></div></div></div></div></div>"
      ],
      "text/plain": [
       "RandomForestClassifier(n_estimators=10)"
      ]
     },
     "execution_count": 25,
     "metadata": {},
     "output_type": "execute_result"
    }
   ],
   "source": [
    "from sklearn.ensemble import RandomForestClassifier\n",
    "rf_model = RandomForestClassifier(n_estimators=10)\n",
    "rf_model.fit(x_train_prep, y_train)"
   ]
  },
  {
   "cell_type": "code",
   "execution_count": 26,
   "id": "8a578b8b",
   "metadata": {
    "execution": {
     "iopub.execute_input": "2024-10-23T19:19:16.465874Z",
     "iopub.status.busy": "2024-10-23T19:19:16.465433Z",
     "iopub.status.idle": "2024-10-23T19:19:16.475487Z",
     "shell.execute_reply": "2024-10-23T19:19:16.474248Z"
    },
    "papermill": {
     "duration": 0.037027,
     "end_time": "2024-10-23T19:19:16.478052",
     "exception": false,
     "start_time": "2024-10-23T19:19:16.441025",
     "status": "completed"
    },
    "tags": []
   },
   "outputs": [
    {
     "data": {
      "text/plain": [
       "array([5.18072968e-02, 6.98472948e-02, 1.81808000e-02, 5.46600870e-03,\n",
       "       9.80426660e-02, 7.74863141e-02, 1.59014575e-02, 8.80768459e-02,\n",
       "       1.09747110e-01, 2.68451703e-03, 3.77070430e-03, 4.59869388e-03,\n",
       "       1.83915006e-03, 3.41384603e-03, 3.47824112e-03, 1.59876104e-03,\n",
       "       3.19478648e-01, 2.22424781e-03, 4.57073334e-03, 2.39304605e-02,\n",
       "       4.65522849e-05, 9.12773509e-03, 6.95886868e-03, 1.25689243e-02,\n",
       "       1.61987579e-03, 1.31476081e-02, 0.00000000e+00, 1.19548518e-03,\n",
       "       1.11784653e-02, 3.45349508e-05, 0.00000000e+00, 7.21032312e-03,\n",
       "       6.59226588e-03, 2.27748012e-03, 1.60571305e-02, 5.84095468e-03])"
      ]
     },
     "execution_count": 26,
     "metadata": {},
     "output_type": "execute_result"
    }
   ],
   "source": [
    "rf_model.feature_importances_"
   ]
  },
  {
   "cell_type": "code",
   "execution_count": 27,
   "id": "958c8802",
   "metadata": {
    "execution": {
     "iopub.execute_input": "2024-10-23T19:19:16.526580Z",
     "iopub.status.busy": "2024-10-23T19:19:16.526137Z",
     "iopub.status.idle": "2024-10-23T19:19:16.536331Z",
     "shell.execute_reply": "2024-10-23T19:19:16.534849Z"
    },
    "papermill": {
     "duration": 0.038308,
     "end_time": "2024-10-23T19:19:16.539096",
     "exception": false,
     "start_time": "2024-10-23T19:19:16.500788",
     "status": "completed"
    },
    "tags": []
   },
   "outputs": [],
   "source": [
    "# Unir las importancias con las etiquetas\n",
    "feature_importance = {name: score for name, score in zip(list(x_train_prep), rf_model.feature_importances_)}\n",
    "# Creamos un df a partir de este diccionario\n",
    "feature_importance_df = pd.DataFrame(list(feature_importance.items()), columns=['Feature', 'Importance'])\n",
    "# Ordenamos de forma descendente\n",
    "feature_importance_df = feature_importance_df.sort_values(by='Importance', ascending=False)"
   ]
  },
  {
   "cell_type": "code",
   "execution_count": 28,
   "id": "a882dd40",
   "metadata": {
    "execution": {
     "iopub.execute_input": "2024-10-23T19:19:16.588956Z",
     "iopub.status.busy": "2024-10-23T19:19:16.588546Z",
     "iopub.status.idle": "2024-10-23T19:19:16.597199Z",
     "shell.execute_reply": "2024-10-23T19:19:16.596015Z"
    },
    "papermill": {
     "duration": 0.037273,
     "end_time": "2024-10-23T19:19:16.599921",
     "exception": false,
     "start_time": "2024-10-23T19:19:16.562648",
     "status": "completed"
    },
    "tags": []
   },
   "outputs": [],
   "source": [
    "feature_importance_df = pd.DataFrame({'Feature': x_train_prep.columns, 'Importance': rf_model.feature_importances_}).sort_values(by='Importance', ascending=False)"
   ]
  },
  {
   "cell_type": "code",
   "execution_count": 29,
   "id": "bc9fe2c2",
   "metadata": {
    "execution": {
     "iopub.execute_input": "2024-10-23T19:19:16.649987Z",
     "iopub.status.busy": "2024-10-23T19:19:16.649096Z",
     "iopub.status.idle": "2024-10-23T19:19:16.663354Z",
     "shell.execute_reply": "2024-10-23T19:19:16.661912Z"
    },
    "papermill": {
     "duration": 0.043107,
     "end_time": "2024-10-23T19:19:16.666291",
     "exception": false,
     "start_time": "2024-10-23T19:19:16.623184",
     "status": "completed"
    },
    "tags": []
   },
   "outputs": [
    {
     "data": {
      "text/html": [
       "<div>\n",
       "<style scoped>\n",
       "    .dataframe tbody tr th:only-of-type {\n",
       "        vertical-align: middle;\n",
       "    }\n",
       "\n",
       "    .dataframe tbody tr th {\n",
       "        vertical-align: top;\n",
       "    }\n",
       "\n",
       "    .dataframe thead th {\n",
       "        text-align: right;\n",
       "    }\n",
       "</style>\n",
       "<table border=\"1\" class=\"dataframe\">\n",
       "  <thead>\n",
       "    <tr style=\"text-align: right;\">\n",
       "      <th></th>\n",
       "      <th>Feature</th>\n",
       "      <th>Importance</th>\n",
       "    </tr>\n",
       "  </thead>\n",
       "  <tbody>\n",
       "    <tr>\n",
       "      <th>16</th>\n",
       "      <td>boat_13</td>\n",
       "      <td>0.319479</td>\n",
       "    </tr>\n",
       "    <tr>\n",
       "      <th>8</th>\n",
       "      <td>sex_male</td>\n",
       "      <td>0.109747</td>\n",
       "    </tr>\n",
       "    <tr>\n",
       "      <th>4</th>\n",
       "      <td>ticket</td>\n",
       "      <td>0.098043</td>\n",
       "    </tr>\n",
       "    <tr>\n",
       "      <th>7</th>\n",
       "      <td>sex_female</td>\n",
       "      <td>0.088077</td>\n",
       "    </tr>\n",
       "    <tr>\n",
       "      <th>5</th>\n",
       "      <td>fare</td>\n",
       "      <td>0.077486</td>\n",
       "    </tr>\n",
       "    <tr>\n",
       "      <th>1</th>\n",
       "      <td>age</td>\n",
       "      <td>0.069847</td>\n",
       "    </tr>\n",
       "    <tr>\n",
       "      <th>0</th>\n",
       "      <td>pclass</td>\n",
       "      <td>0.051807</td>\n",
       "    </tr>\n",
       "    <tr>\n",
       "      <th>19</th>\n",
       "      <td>boat_15</td>\n",
       "      <td>0.023930</td>\n",
       "    </tr>\n",
       "    <tr>\n",
       "      <th>2</th>\n",
       "      <td>sibsp</td>\n",
       "      <td>0.018181</td>\n",
       "    </tr>\n",
       "    <tr>\n",
       "      <th>34</th>\n",
       "      <td>boat_C</td>\n",
       "      <td>0.016057</td>\n",
       "    </tr>\n",
       "  </tbody>\n",
       "</table>\n",
       "</div>"
      ],
      "text/plain": [
       "       Feature  Importance\n",
       "16     boat_13    0.319479\n",
       "8     sex_male    0.109747\n",
       "4       ticket    0.098043\n",
       "7   sex_female    0.088077\n",
       "5         fare    0.077486\n",
       "1          age    0.069847\n",
       "0       pclass    0.051807\n",
       "19     boat_15    0.023930\n",
       "2        sibsp    0.018181\n",
       "34      boat_C    0.016057"
      ]
     },
     "execution_count": 29,
     "metadata": {},
     "output_type": "execute_result"
    }
   ],
   "source": [
    "feature_importance_df.head(10)"
   ]
  },
  {
   "cell_type": "code",
   "execution_count": 30,
   "id": "8ec14351",
   "metadata": {
    "execution": {
     "iopub.execute_input": "2024-10-23T19:19:16.714269Z",
     "iopub.status.busy": "2024-10-23T19:19:16.713822Z",
     "iopub.status.idle": "2024-10-23T19:19:17.357083Z",
     "shell.execute_reply": "2024-10-23T19:19:17.355857Z"
    },
    "papermill": {
     "duration": 0.670173,
     "end_time": "2024-10-23T19:19:17.359780",
     "exception": false,
     "start_time": "2024-10-23T19:19:16.689607",
     "status": "completed"
    },
    "tags": []
   },
   "outputs": [
    {
     "data": {
      "image/png": "[encoded data removed]",
      "text/plain": [
       "<Figure size 640x480 with 1 Axes>"
      ]
     },
     "metadata": {},
     "output_type": "display_data"
    }
   ],
   "source": [
    "sns.barplot(x='Importance', y='Feature', data=feature_importance_df)\n",
    "\n",
    "plt.title('Feature Importance')\n",
    "\n",
    "plt.show()"
   ]
  },
  {
   "cell_type": "code",
   "execution_count": 31,
   "id": "ca2b2c04",
   "metadata": {
    "execution": {
     "iopub.execute_input": "2024-10-23T19:19:17.410012Z",
     "iopub.status.busy": "2024-10-23T19:19:17.409506Z",
     "iopub.status.idle": "2024-10-23T19:19:17.416902Z",
     "shell.execute_reply": "2024-10-23T19:19:17.415639Z"
    },
    "papermill": {
     "duration": 0.035838,
     "end_time": "2024-10-23T19:19:17.420159",
     "exception": false,
     "start_time": "2024-10-23T19:19:17.384321",
     "status": "completed"
    },
    "tags": []
   },
   "outputs": [],
   "source": [
    "# Elegimos las primeras 6 mejores.\n",
    "x_train_prep = x_train_prep[feature_importance_df['Feature'].head(9)]"
   ]
  },
  {
   "cell_type": "code",
   "execution_count": 32,
   "id": "714ca809",
   "metadata": {
    "execution": {
     "iopub.execute_input": "2024-10-23T19:19:17.470906Z",
     "iopub.status.busy": "2024-10-23T19:19:17.470451Z",
     "iopub.status.idle": "2024-10-23T19:19:17.491637Z",
     "shell.execute_reply": "2024-10-23T19:19:17.490335Z"
    },
    "papermill": {
     "duration": 0.049495,
     "end_time": "2024-10-23T19:19:17.494302",
     "exception": false,
     "start_time": "2024-10-23T19:19:17.444807",
     "status": "completed"
    },
    "tags": []
   },
   "outputs": [
    {
     "data": {
      "text/html": [
       "<div>\n",
       "<style scoped>\n",
       "    .dataframe tbody tr th:only-of-type {\n",
       "        vertical-align: middle;\n",
       "    }\n",
       "\n",
       "    .dataframe tbody tr th {\n",
       "        vertical-align: top;\n",
       "    }\n",
       "\n",
       "    .dataframe thead th {\n",
       "        text-align: right;\n",
       "    }\n",
       "</style>\n",
       "<table border=\"1\" class=\"dataframe\">\n",
       "  <thead>\n",
       "    <tr style=\"text-align: right;\">\n",
       "      <th></th>\n",
       "      <th>boat_13</th>\n",
       "      <th>sex_male</th>\n",
       "      <th>ticket</th>\n",
       "      <th>sex_female</th>\n",
       "      <th>fare</th>\n",
       "      <th>age</th>\n",
       "      <th>pclass</th>\n",
       "      <th>boat_15</th>\n",
       "      <th>sibsp</th>\n",
       "    </tr>\n",
       "  </thead>\n",
       "  <tbody>\n",
       "    <tr>\n",
       "      <th>0</th>\n",
       "      <td>1.0</td>\n",
       "      <td>1.0</td>\n",
       "      <td>0.194677</td>\n",
       "      <td>0.0</td>\n",
       "      <td>-0.261420</td>\n",
       "      <td>0.000000</td>\n",
       "      <td>0.0</td>\n",
       "      <td>0.0</td>\n",
       "      <td>0.0</td>\n",
       "    </tr>\n",
       "    <tr>\n",
       "      <th>1</th>\n",
       "      <td>1.0</td>\n",
       "      <td>1.0</td>\n",
       "      <td>0.304852</td>\n",
       "      <td>0.0</td>\n",
       "      <td>-0.294255</td>\n",
       "      <td>-0.258526</td>\n",
       "      <td>0.0</td>\n",
       "      <td>0.0</td>\n",
       "      <td>0.0</td>\n",
       "    </tr>\n",
       "    <tr>\n",
       "      <th>2</th>\n",
       "      <td>0.0</td>\n",
       "      <td>0.0</td>\n",
       "      <td>-0.012806</td>\n",
       "      <td>1.0</td>\n",
       "      <td>0.481086</td>\n",
       "      <td>-0.841859</td>\n",
       "      <td>-1.0</td>\n",
       "      <td>0.0</td>\n",
       "      <td>0.0</td>\n",
       "    </tr>\n",
       "    <tr>\n",
       "      <th>3</th>\n",
       "      <td>1.0</td>\n",
       "      <td>0.0</td>\n",
       "      <td>0.000000</td>\n",
       "      <td>1.0</td>\n",
       "      <td>2.346182</td>\n",
       "      <td>0.000000</td>\n",
       "      <td>0.0</td>\n",
       "      <td>0.0</td>\n",
       "      <td>2.5</td>\n",
       "    </tr>\n",
       "    <tr>\n",
       "      <th>4</th>\n",
       "      <td>1.0</td>\n",
       "      <td>0.0</td>\n",
       "      <td>0.297962</td>\n",
       "      <td>1.0</td>\n",
       "      <td>-0.299428</td>\n",
       "      <td>-0.091859</td>\n",
       "      <td>0.0</td>\n",
       "      <td>0.0</td>\n",
       "      <td>0.0</td>\n",
       "    </tr>\n",
       "  </tbody>\n",
       "</table>\n",
       "</div>"
      ],
      "text/plain": [
       "   boat_13  sex_male    ticket  sex_female      fare       age  pclass  \\\n",
       "0      1.0       1.0  0.194677         0.0 -0.261420  0.000000     0.0   \n",
       "1      1.0       1.0  0.304852         0.0 -0.294255 -0.258526     0.0   \n",
       "2      0.0       0.0 -0.012806         1.0  0.481086 -0.841859    -1.0   \n",
       "3      1.0       0.0  0.000000         1.0  2.346182  0.000000     0.0   \n",
       "4      1.0       0.0  0.297962         1.0 -0.299428 -0.091859     0.0   \n",
       "\n",
       "   boat_15  sibsp  \n",
       "0      0.0    0.0  \n",
       "1      0.0    0.0  \n",
       "2      0.0    0.0  \n",
       "3      0.0    2.5  \n",
       "4      0.0    0.0  "
      ]
     },
     "execution_count": 32,
     "metadata": {},
     "output_type": "execute_result"
    }
   ],
   "source": [
    "x_train_prep.head()"
   ]
  },
  {
   "cell_type": "markdown",
   "id": "fca10ddf",
   "metadata": {
    "execution": {
     "iopub.execute_input": "2024-10-19T19:45:04.646751Z",
     "iopub.status.busy": "2024-10-19T19:45:04.646332Z",
     "iopub.status.idle": "2024-10-19T19:45:04.655015Z",
     "shell.execute_reply": "2024-10-19T19:45:04.652871Z",
     "shell.execute_reply.started": "2024-10-19T19:45:04.646720Z"
    },
    "papermill": {
     "duration": 0.023894,
     "end_time": "2024-10-23T19:19:17.542326",
     "exception": false,
     "start_time": "2024-10-23T19:19:17.518432",
     "status": "completed"
    },
    "tags": []
   },
   "source": [
    "### B.- Extracción de caracteristicas"
   ]
  },
  {
   "cell_type": "markdown",
   "id": "b4dfb7c7",
   "metadata": {
    "papermill": {
     "duration": 0.023747,
     "end_time": "2024-10-23T19:19:17.589999",
     "exception": false,
     "start_time": "2024-10-23T19:19:17.566252",
     "status": "completed"
    },
    "tags": []
   },
   "source": [
    "Lo que hace PCA es tomar las características originales y transformarlas en un nuevo conjunto de variables (llamadas \"componentes principales\") que capturan la mayor cantidad de varianza posible en los datos, pero en un espacio reducido. No elimina columnas, sino que genera nuevas características a partir de combinaciones de las originales.\n",
    "Es muy util cuando tenemos varias caracteristicas o estan altamente relacionadas para reducirlas."
   ]
  },
  {
   "cell_type": "markdown",
   "id": "792f2a95",
   "metadata": {
    "papermill": {
     "duration": 0.023714,
     "end_time": "2024-10-23T19:19:17.637811",
     "exception": false,
     "start_time": "2024-10-23T19:19:17.614097",
     "status": "completed"
    },
    "tags": []
   },
   "source": [
    "En este caso este dataset no le hace falta, por lo que cargaremos otro dataset para verlo."
   ]
  },
  {
   "cell_type": "code",
   "execution_count": 33,
   "id": "8556d39e",
   "metadata": {
    "execution": {
     "iopub.execute_input": "2024-10-23T19:19:17.689186Z",
     "iopub.status.busy": "2024-10-23T19:19:17.688762Z",
     "iopub.status.idle": "2024-10-23T19:19:17.718983Z",
     "shell.execute_reply": "2024-10-23T19:19:17.717632Z"
    },
    "papermill": {
     "duration": 0.058544,
     "end_time": "2024-10-23T19:19:17.721861",
     "exception": false,
     "start_time": "2024-10-23T19:19:17.663317",
     "status": "completed"
    },
    "tags": []
   },
   "outputs": [],
   "source": [
    "df = pd.read_csv('/kaggle/input/wine-quality-dataset/WineQT.csv')\n",
    "df = df.drop('Id', axis=1)"
   ]
  },
  {
   "cell_type": "code",
   "execution_count": 34,
   "id": "64582ea2",
   "metadata": {
    "execution": {
     "iopub.execute_input": "2024-10-23T19:19:17.772668Z",
     "iopub.status.busy": "2024-10-23T19:19:17.772189Z",
     "iopub.status.idle": "2024-10-23T19:19:17.796857Z",
     "shell.execute_reply": "2024-10-23T19:19:17.795545Z"
    },
    "papermill": {
     "duration": 0.053155,
     "end_time": "2024-10-23T19:19:17.799823",
     "exception": false,
     "start_time": "2024-10-23T19:19:17.746668",
     "status": "completed"
    },
    "tags": []
   },
   "outputs": [
    {
     "data": {
      "text/html": [
       "<div>\n",
       "<style scoped>\n",
       "    .dataframe tbody tr th:only-of-type {\n",
       "        vertical-align: middle;\n",
       "    }\n",
       "\n",
       "    .dataframe tbody tr th {\n",
       "        vertical-align: top;\n",
       "    }\n",
       "\n",
       "    .dataframe thead th {\n",
       "        text-align: right;\n",
       "    }\n",
       "</style>\n",
       "<table border=\"1\" class=\"dataframe\">\n",
       "  <thead>\n",
       "    <tr style=\"text-align: right;\">\n",
       "      <th></th>\n",
       "      <th>fixed acidity</th>\n",
       "      <th>volatile acidity</th>\n",
       "      <th>citric acid</th>\n",
       "      <th>residual sugar</th>\n",
       "      <th>chlorides</th>\n",
       "      <th>free sulfur dioxide</th>\n",
       "      <th>total sulfur dioxide</th>\n",
       "      <th>density</th>\n",
       "      <th>pH</th>\n",
       "      <th>sulphates</th>\n",
       "      <th>alcohol</th>\n",
       "      <th>quality</th>\n",
       "    </tr>\n",
       "  </thead>\n",
       "  <tbody>\n",
       "    <tr>\n",
       "      <th>0</th>\n",
       "      <td>7.4</td>\n",
       "      <td>0.70</td>\n",
       "      <td>0.00</td>\n",
       "      <td>1.9</td>\n",
       "      <td>0.076</td>\n",
       "      <td>11.0</td>\n",
       "      <td>34.0</td>\n",
       "      <td>0.9978</td>\n",
       "      <td>3.51</td>\n",
       "      <td>0.56</td>\n",
       "      <td>9.4</td>\n",
       "      <td>5</td>\n",
       "    </tr>\n",
       "    <tr>\n",
       "      <th>1</th>\n",
       "      <td>7.8</td>\n",
       "      <td>0.88</td>\n",
       "      <td>0.00</td>\n",
       "      <td>2.6</td>\n",
       "      <td>0.098</td>\n",
       "      <td>25.0</td>\n",
       "      <td>67.0</td>\n",
       "      <td>0.9968</td>\n",
       "      <td>3.20</td>\n",
       "      <td>0.68</td>\n",
       "      <td>9.8</td>\n",
       "      <td>5</td>\n",
       "    </tr>\n",
       "    <tr>\n",
       "      <th>2</th>\n",
       "      <td>7.8</td>\n",
       "      <td>0.76</td>\n",
       "      <td>0.04</td>\n",
       "      <td>2.3</td>\n",
       "      <td>0.092</td>\n",
       "      <td>15.0</td>\n",
       "      <td>54.0</td>\n",
       "      <td>0.9970</td>\n",
       "      <td>3.26</td>\n",
       "      <td>0.65</td>\n",
       "      <td>9.8</td>\n",
       "      <td>5</td>\n",
       "    </tr>\n",
       "    <tr>\n",
       "      <th>3</th>\n",
       "      <td>11.2</td>\n",
       "      <td>0.28</td>\n",
       "      <td>0.56</td>\n",
       "      <td>1.9</td>\n",
       "      <td>0.075</td>\n",
       "      <td>17.0</td>\n",
       "      <td>60.0</td>\n",
       "      <td>0.9980</td>\n",
       "      <td>3.16</td>\n",
       "      <td>0.58</td>\n",
       "      <td>9.8</td>\n",
       "      <td>6</td>\n",
       "    </tr>\n",
       "    <tr>\n",
       "      <th>4</th>\n",
       "      <td>7.4</td>\n",
       "      <td>0.70</td>\n",
       "      <td>0.00</td>\n",
       "      <td>1.9</td>\n",
       "      <td>0.076</td>\n",
       "      <td>11.0</td>\n",
       "      <td>34.0</td>\n",
       "      <td>0.9978</td>\n",
       "      <td>3.51</td>\n",
       "      <td>0.56</td>\n",
       "      <td>9.4</td>\n",
       "      <td>5</td>\n",
       "    </tr>\n",
       "  </tbody>\n",
       "</table>\n",
       "</div>"
      ],
      "text/plain": [
       "   fixed acidity  volatile acidity  citric acid  residual sugar  chlorides  \\\n",
       "0            7.4              0.70         0.00             1.9      0.076   \n",
       "1            7.8              0.88         0.00             2.6      0.098   \n",
       "2            7.8              0.76         0.04             2.3      0.092   \n",
       "3           11.2              0.28         0.56             1.9      0.075   \n",
       "4            7.4              0.70         0.00             1.9      0.076   \n",
       "\n",
       "   free sulfur dioxide  total sulfur dioxide  density    pH  sulphates  \\\n",
       "0                 11.0                  34.0   0.9978  3.51       0.56   \n",
       "1                 25.0                  67.0   0.9968  3.20       0.68   \n",
       "2                 15.0                  54.0   0.9970  3.26       0.65   \n",
       "3                 17.0                  60.0   0.9980  3.16       0.58   \n",
       "4                 11.0                  34.0   0.9978  3.51       0.56   \n",
       "\n",
       "   alcohol  quality  \n",
       "0      9.4        5  \n",
       "1      9.8        5  \n",
       "2      9.8        5  \n",
       "3      9.8        6  \n",
       "4      9.4        5  "
      ]
     },
     "execution_count": 34,
     "metadata": {},
     "output_type": "execute_result"
    }
   ],
   "source": [
    "df.head()"
   ]
  },
  {
   "cell_type": "markdown",
   "id": "6c30d630",
   "metadata": {
    "papermill": {
     "duration": 0.024959,
     "end_time": "2024-10-23T19:19:17.849467",
     "exception": false,
     "start_time": "2024-10-23T19:19:17.824508",
     "status": "completed"
    },
    "tags": []
   },
   "source": [
    "En este caso vemos que hay caracteristcas con alta correlación."
   ]
  },
  {
   "cell_type": "code",
   "execution_count": 35,
   "id": "fe166387",
   "metadata": {
    "execution": {
     "iopub.execute_input": "2024-10-23T19:19:17.901425Z",
     "iopub.status.busy": "2024-10-23T19:19:17.900981Z",
     "iopub.status.idle": "2024-10-23T19:19:18.864668Z",
     "shell.execute_reply": "2024-10-23T19:19:18.863330Z"
    },
    "papermill": {
     "duration": 0.993249,
     "end_time": "2024-10-23T19:19:18.868224",
     "exception": false,
     "start_time": "2024-10-23T19:19:17.874975",
     "status": "completed"
    },
    "tags": []
   },
   "outputs": [
    {
     "data": {
      "text/plain": [
       "<Axes: >"
      ]
     },
     "execution_count": 35,
     "metadata": {},
     "output_type": "execute_result"
    },
    {
     "data": {
      "image/png": "[encoded data removed]",
      "text/plain": [
       "<Figure size 1000x600 with 2 Axes>"
      ]
     },
     "metadata": {},
     "output_type": "display_data"
    }
   ],
   "source": [
    "plt.figure(figsize=(10, 6))\n",
    "sns.heatmap(df.corr(), annot=True)"
   ]
  },
  {
   "cell_type": "markdown",
   "id": "09eafe79",
   "metadata": {
    "papermill": {
     "duration": 0.027192,
     "end_time": "2024-10-23T19:19:18.923210",
     "exception": false,
     "start_time": "2024-10-23T19:19:18.896018",
     "status": "completed"
    },
    "tags": []
   },
   "source": [
    "Es importante que este escaldo pero imaginemos que el dataset ya paso por el preprocesamiento y ya esta escalado."
   ]
  },
  {
   "cell_type": "code",
   "execution_count": 36,
   "id": "98391271",
   "metadata": {
    "_kg_hide-input": true,
    "execution": {
     "iopub.execute_input": "2024-10-23T19:19:18.979315Z",
     "iopub.status.busy": "2024-10-23T19:19:18.978830Z",
     "iopub.status.idle": "2024-10-23T19:19:18.991106Z",
     "shell.execute_reply": "2024-10-23T19:19:18.989856Z"
    },
    "papermill": {
     "duration": 0.043434,
     "end_time": "2024-10-23T19:19:18.993863",
     "exception": false,
     "start_time": "2024-10-23T19:19:18.950429",
     "status": "completed"
    },
    "tags": []
   },
   "outputs": [],
   "source": [
    "x = df.drop('quality', axis=1)\n",
    "\n",
    "# Normalizamos los datos con StandardScaler\n",
    "from sklearn.preprocessing import StandardScaler\n",
    "scaler = StandardScaler()\n",
    "x_scaled = scaler.fit_transform(x)"
   ]
  },
  {
   "cell_type": "code",
   "execution_count": 37,
   "id": "8f7a62ed",
   "metadata": {
    "execution": {
     "iopub.execute_input": "2024-10-23T19:19:19.051503Z",
     "iopub.status.busy": "2024-10-23T19:19:19.050951Z",
     "iopub.status.idle": "2024-10-23T19:19:19.071208Z",
     "shell.execute_reply": "2024-10-23T19:19:19.069982Z"
    },
    "papermill": {
     "duration": 0.053911,
     "end_time": "2024-10-23T19:19:19.076436",
     "exception": false,
     "start_time": "2024-10-23T19:19:19.022525",
     "status": "completed"
    },
    "tags": []
   },
   "outputs": [],
   "source": [
    "# Podemos poner cuanto porcentaje de variabilidad queremos conservar o cuantos  compones (columnas), queremos\n",
    "from sklearn.decomposition import PCA\n",
    "\n",
    "pca = PCA(n_components=2)\n",
    "df_reduced = pca.fit_transform(x_scaled)"
   ]
  },
  {
   "cell_type": "code",
   "execution_count": 38,
   "id": "9d8bc6e4",
   "metadata": {
    "execution": {
     "iopub.execute_input": "2024-10-23T19:19:19.191272Z",
     "iopub.status.busy": "2024-10-23T19:19:19.190803Z",
     "iopub.status.idle": "2024-10-23T19:19:19.199083Z",
     "shell.execute_reply": "2024-10-23T19:19:19.197660Z"
    },
    "papermill": {
     "duration": 0.06813,
     "end_time": "2024-10-23T19:19:19.201808",
     "exception": false,
     "start_time": "2024-10-23T19:19:19.133678",
     "status": "completed"
    },
    "tags": []
   },
   "outputs": [
    {
     "data": {
      "text/plain": [
       "array([0.28692345, 0.17075104])"
      ]
     },
     "execution_count": 38,
     "metadata": {},
     "output_type": "execute_result"
    }
   ],
   "source": [
    "pca.explained_variance_ratio_"
   ]
  },
  {
   "cell_type": "code",
   "execution_count": 39,
   "id": "29567637",
   "metadata": {
    "execution": {
     "iopub.execute_input": "2024-10-23T19:19:19.259254Z",
     "iopub.status.busy": "2024-10-23T19:19:19.258819Z",
     "iopub.status.idle": "2024-10-23T19:19:19.266636Z",
     "shell.execute_reply": "2024-10-23T19:19:19.265341Z"
    },
    "papermill": {
     "duration": 0.039703,
     "end_time": "2024-10-23T19:19:19.269062",
     "exception": false,
     "start_time": "2024-10-23T19:19:19.229359",
     "status": "completed"
    },
    "tags": []
   },
   "outputs": [
    {
     "data": {
      "text/plain": [
       "2"
      ]
     },
     "execution_count": 39,
     "metadata": {},
     "output_type": "execute_result"
    }
   ],
   "source": [
    "pca.n_components_"
   ]
  },
  {
   "cell_type": "code",
   "execution_count": 40,
   "id": "dbacda6f",
   "metadata": {
    "execution": {
     "iopub.execute_input": "2024-10-23T19:19:19.327346Z",
     "iopub.status.busy": "2024-10-23T19:19:19.326887Z",
     "iopub.status.idle": "2024-10-23T19:19:19.333328Z",
     "shell.execute_reply": "2024-10-23T19:19:19.332027Z"
    },
    "papermill": {
     "duration": 0.039793,
     "end_time": "2024-10-23T19:19:19.336279",
     "exception": false,
     "start_time": "2024-10-23T19:19:19.296486",
     "status": "completed"
    },
    "tags": []
   },
   "outputs": [],
   "source": [
    "df_reduced = pd.DataFrame(df_reduced, columns=['c1', 'c2'])"
   ]
  },
  {
   "cell_type": "code",
   "execution_count": 41,
   "id": "e6008b08",
   "metadata": {
    "execution": {
     "iopub.execute_input": "2024-10-23T19:19:19.393877Z",
     "iopub.status.busy": "2024-10-23T19:19:19.393427Z",
     "iopub.status.idle": "2024-10-23T19:19:19.405497Z",
     "shell.execute_reply": "2024-10-23T19:19:19.404472Z"
    },
    "papermill": {
     "duration": 0.04369,
     "end_time": "2024-10-23T19:19:19.408095",
     "exception": false,
     "start_time": "2024-10-23T19:19:19.364405",
     "status": "completed"
    },
    "tags": []
   },
   "outputs": [
    {
     "data": {
      "text/html": [
       "<div>\n",
       "<style scoped>\n",
       "    .dataframe tbody tr th:only-of-type {\n",
       "        vertical-align: middle;\n",
       "    }\n",
       "\n",
       "    .dataframe tbody tr th {\n",
       "        vertical-align: top;\n",
       "    }\n",
       "\n",
       "    .dataframe thead th {\n",
       "        text-align: right;\n",
       "    }\n",
       "</style>\n",
       "<table border=\"1\" class=\"dataframe\">\n",
       "  <thead>\n",
       "    <tr style=\"text-align: right;\">\n",
       "      <th></th>\n",
       "      <th>c1</th>\n",
       "      <th>c2</th>\n",
       "    </tr>\n",
       "  </thead>\n",
       "  <tbody>\n",
       "    <tr>\n",
       "      <th>0</th>\n",
       "      <td>-1.561545</td>\n",
       "      <td>0.444892</td>\n",
       "    </tr>\n",
       "    <tr>\n",
       "      <th>1</th>\n",
       "      <td>-0.760892</td>\n",
       "      <td>1.915058</td>\n",
       "    </tr>\n",
       "    <tr>\n",
       "      <th>2</th>\n",
       "      <td>-0.708085</td>\n",
       "      <td>0.914423</td>\n",
       "    </tr>\n",
       "    <tr>\n",
       "      <th>3</th>\n",
       "      <td>2.308166</td>\n",
       "      <td>-0.224448</td>\n",
       "    </tr>\n",
       "    <tr>\n",
       "      <th>4</th>\n",
       "      <td>-1.561545</td>\n",
       "      <td>0.444892</td>\n",
       "    </tr>\n",
       "  </tbody>\n",
       "</table>\n",
       "</div>"
      ],
      "text/plain": [
       "         c1        c2\n",
       "0 -1.561545  0.444892\n",
       "1 -0.760892  1.915058\n",
       "2 -0.708085  0.914423\n",
       "3  2.308166 -0.224448\n",
       "4 -1.561545  0.444892"
      ]
     },
     "execution_count": 41,
     "metadata": {},
     "output_type": "execute_result"
    }
   ],
   "source": [
    "df_reduced.head()"
   ]
  },
  {
   "cell_type": "markdown",
   "id": "9193518c",
   "metadata": {
    "execution": {
     "iopub.execute_input": "2024-10-21T21:46:56.336280Z",
     "iopub.status.busy": "2024-10-21T21:46:56.335404Z",
     "iopub.status.idle": "2024-10-21T21:46:56.345465Z",
     "shell.execute_reply": "2024-10-21T21:46:56.343515Z",
     "shell.execute_reply.started": "2024-10-21T21:46:56.336240Z"
    },
    "papermill": {
     "duration": 0.028481,
     "end_time": "2024-10-23T19:19:19.465991",
     "exception": false,
     "start_time": "2024-10-23T19:19:19.437510",
     "status": "completed"
    },
    "tags": []
   },
   "source": [
    "Hasta aqui llega este notebook, los proximos pasos para un proyecto de ml serian el entrenamiento y la evaluación, eso lo explico en los otro notebooks que tengo."
   ]
  }
 ],
 "metadata": {
  "kaggle": {
   "accelerator": "none",
   "dataSources": [
    {
     "datasetId": 1636366,
     "sourceId": 2687928,
     "sourceType": "datasetVersion"
    },
    {
     "datasetId": 1866301,
     "sourceId": 3047725,
     "sourceType": "datasetVersion"
    }
   ],
   "dockerImageVersionId": 30746,
   "isGpuEnabled": false,
   "isInternetEnabled": true,
   "language": "python",
   "sourceType": "notebook"
  },
  "kernelspec": {
   "display_name": "Python 3",
   "language": "python",
   "name": "python3"
  },
  "language_info": {
   "codemirror_mode": {
    "name": "ipython",
    "version": 3
   },
   "file_extension": ".py",
   "mimetype": "text/x-python",
   "name": "python",
   "nbconvert_exporter": "python",
   "pygments_lexer": "ipython3",
   "version": "3.10.13"
  },
  "papermill": {
   "default_parameters": {},
   "duration": 15.196491,
   "end_time": "2024-10-23T19:19:20.217315",
   "environment_variables": {},
   "exception": null,
   "input_path": "__notebook__.ipynb",
   "output_path": "__notebook__.ipynb",
   "parameters": {},
   "start_time": "2024-10-23T19:19:05.020824",
   "version": "2.5.0"
  }
 },
 "nbformat": 4,
 "nbformat_minor": 5
}
